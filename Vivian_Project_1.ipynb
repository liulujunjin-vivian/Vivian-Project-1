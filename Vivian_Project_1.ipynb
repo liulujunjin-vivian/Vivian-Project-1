{
 "cells": [
  {
   "cell_type": "markdown",
   "id": "50927880",
   "metadata": {},
   "source": [
    "  > * To avoid programe conflicting, this file version will contain fully running code.   \n",
    "  > * Libraries will be imported indepedently\n",
    "  > * Variables will be declared consciously to cooperate with team members"
   ]
  },
  {
   "cell_type": "code",
   "execution_count": 6,
   "id": "e282b2e6",
   "metadata": {},
   "outputs": [],
   "source": [
    "# import required libraries\n",
    "\n",
    "import alpaca_trade_api as tradeapi\n",
    "import os\n",
    "import pandas as pd\n",
    "import requests\n",
    "\n",
    "from dotenv import load_dotenv\n",
    "\n"
   ]
  },
  {
   "cell_type": "markdown",
   "id": "c261cb11",
   "metadata": {},
   "source": [
    "# GETTING DATA"
   ]
  },
  {
   "cell_type": "code",
   "execution_count": 7,
   "id": "c96fd64d",
   "metadata": {},
   "outputs": [],
   "source": [
    "# Variables assigned above the dividing line, code after this line will be neat.\n",
    "# set up this line of variables for customer to change\n",
    "customer_request_starting_date = \"2021-01-01\"\n",
    "customer_request_ending_date = \"2021-12-31\"\n",
    "tickers = [\"GILD\", \"MDLZ\", \"UAL\", \"DOV\", \"LYB\"]"
   ]
  },
  {
   "cell_type": "markdown",
   "id": "c6a96e1b",
   "metadata": {},
   "source": [
    "---"
   ]
  },
  {
   "cell_type": "code",
   "execution_count": 8,
   "id": "7d2c2db3",
   "metadata": {},
   "outputs": [
    {
     "ename": "ValueError",
     "evalue": "('Key ID must be given to access Alpaca trade API', ' (env: APCA_API_KEY_ID)')",
     "output_type": "error",
     "traceback": [
      "\u001b[0;31m---------------------------------------------------------------------------\u001b[0m",
      "\u001b[0;31mValueError\u001b[0m                                Traceback (most recent call last)",
      "Input \u001b[0;32mIn [8]\u001b[0m, in \u001b[0;36m<cell line: 6>\u001b[0;34m()\u001b[0m\n\u001b[1;32m      3\u001b[0m alpaca_api_key \u001b[38;5;241m=\u001b[39m os\u001b[38;5;241m.\u001b[39mgetenv(\u001b[38;5;124m\"\u001b[39m\u001b[38;5;124mALPACA_API_KEY\u001b[39m\u001b[38;5;124m\"\u001b[39m)\n\u001b[1;32m      4\u001b[0m alpaca_secret_key \u001b[38;5;241m=\u001b[39m os\u001b[38;5;241m.\u001b[39mgetenv(\u001b[38;5;124m\"\u001b[39m\u001b[38;5;124mALPACA_SECRET_KEY\u001b[39m\u001b[38;5;124m\"\u001b[39m)\n\u001b[0;32m----> 6\u001b[0m alpaca \u001b[38;5;241m=\u001b[39m \u001b[43mtradeapi\u001b[49m\u001b[38;5;241;43m.\u001b[39;49m\u001b[43mREST\u001b[49m\u001b[43m(\u001b[49m\u001b[43malpaca_api_key\u001b[49m\u001b[43m,\u001b[49m\u001b[43m \u001b[49m\u001b[43malpaca_secret_key\u001b[49m\u001b[43m,\u001b[49m\u001b[43m \u001b[49m\u001b[43mapi_version\u001b[49m\u001b[43m \u001b[49m\u001b[38;5;241;43m=\u001b[39;49m\u001b[43m \u001b[49m\u001b[38;5;124;43m\"\u001b[39;49m\u001b[38;5;124;43mv2\u001b[39;49m\u001b[38;5;124;43m\"\u001b[39;49m\u001b[43m)\u001b[49m\n",
      "File \u001b[0;32m~/opt/anaconda3/lib/python3.9/site-packages/alpaca_trade_api/rest.py:168\u001b[0m, in \u001b[0;36mREST.__init__\u001b[0;34m(self, key_id, secret_key, base_url, api_version, oauth, raw_data)\u001b[0m\n\u001b[1;32m    156\u001b[0m \u001b[38;5;28;01mdef\u001b[39;00m \u001b[38;5;21m__init__\u001b[39m(\u001b[38;5;28mself\u001b[39m,\n\u001b[1;32m    157\u001b[0m              key_id: \u001b[38;5;28mstr\u001b[39m \u001b[38;5;241m=\u001b[39m \u001b[38;5;28;01mNone\u001b[39;00m,\n\u001b[1;32m    158\u001b[0m              secret_key: \u001b[38;5;28mstr\u001b[39m \u001b[38;5;241m=\u001b[39m \u001b[38;5;28;01mNone\u001b[39;00m,\n\u001b[0;32m   (...)\u001b[0m\n\u001b[1;32m    162\u001b[0m              raw_data: \u001b[38;5;28mbool\u001b[39m \u001b[38;5;241m=\u001b[39m \u001b[38;5;28;01mFalse\u001b[39;00m\n\u001b[1;32m    163\u001b[0m              ):\n\u001b[1;32m    164\u001b[0m     \u001b[38;5;124;03m\"\"\"\u001b[39;00m\n\u001b[1;32m    165\u001b[0m \u001b[38;5;124;03m    :param raw_data: should we return api response raw or wrap it with\u001b[39;00m\n\u001b[1;32m    166\u001b[0m \u001b[38;5;124;03m                     Entity objects.\u001b[39;00m\n\u001b[1;32m    167\u001b[0m \u001b[38;5;124;03m    \"\"\"\u001b[39;00m\n\u001b[0;32m--> 168\u001b[0m     \u001b[38;5;28mself\u001b[39m\u001b[38;5;241m.\u001b[39m_key_id, \u001b[38;5;28mself\u001b[39m\u001b[38;5;241m.\u001b[39m_secret_key, \u001b[38;5;28mself\u001b[39m\u001b[38;5;241m.\u001b[39m_oauth \u001b[38;5;241m=\u001b[39m \u001b[43mget_credentials\u001b[49m\u001b[43m(\u001b[49m\n\u001b[1;32m    169\u001b[0m \u001b[43m        \u001b[49m\u001b[43mkey_id\u001b[49m\u001b[43m,\u001b[49m\u001b[43m \u001b[49m\u001b[43msecret_key\u001b[49m\u001b[43m,\u001b[49m\u001b[43m \u001b[49m\u001b[43moauth\u001b[49m\u001b[43m)\u001b[49m\n\u001b[1;32m    170\u001b[0m     \u001b[38;5;28mself\u001b[39m\u001b[38;5;241m.\u001b[39m_base_url: URL \u001b[38;5;241m=\u001b[39m URL(base_url \u001b[38;5;129;01mor\u001b[39;00m get_base_url())\n\u001b[1;32m    171\u001b[0m     \u001b[38;5;28mself\u001b[39m\u001b[38;5;241m.\u001b[39m_api_version \u001b[38;5;241m=\u001b[39m get_api_version(api_version)\n",
      "File \u001b[0;32m~/opt/anaconda3/lib/python3.9/site-packages/alpaca_trade_api/common.py:84\u001b[0m, in \u001b[0;36mget_credentials\u001b[0;34m(key_id, secret_key, oauth)\u001b[0m\n\u001b[1;32m     82\u001b[0m key_id \u001b[38;5;241m=\u001b[39m key_id \u001b[38;5;129;01mor\u001b[39;00m os\u001b[38;5;241m.\u001b[39menviron\u001b[38;5;241m.\u001b[39mget(\u001b[38;5;124m'\u001b[39m\u001b[38;5;124mAPCA_API_KEY_ID\u001b[39m\u001b[38;5;124m'\u001b[39m)\n\u001b[1;32m     83\u001b[0m \u001b[38;5;28;01mif\u001b[39;00m key_id \u001b[38;5;129;01mis\u001b[39;00m \u001b[38;5;28;01mNone\u001b[39;00m \u001b[38;5;129;01mand\u001b[39;00m oauth \u001b[38;5;129;01mis\u001b[39;00m \u001b[38;5;28;01mNone\u001b[39;00m:\n\u001b[0;32m---> 84\u001b[0m     \u001b[38;5;28;01mraise\u001b[39;00m \u001b[38;5;167;01mValueError\u001b[39;00m(\u001b[38;5;124m'\u001b[39m\u001b[38;5;124mKey ID must be given to access Alpaca trade API\u001b[39m\u001b[38;5;124m'\u001b[39m,\n\u001b[1;32m     85\u001b[0m                      \u001b[38;5;124m'\u001b[39m\u001b[38;5;124m (env: APCA_API_KEY_ID)\u001b[39m\u001b[38;5;124m'\u001b[39m)\n\u001b[1;32m     87\u001b[0m secret_key \u001b[38;5;241m=\u001b[39m secret_key \u001b[38;5;129;01mor\u001b[39;00m os\u001b[38;5;241m.\u001b[39menviron\u001b[38;5;241m.\u001b[39mget(\u001b[38;5;124m'\u001b[39m\u001b[38;5;124mAPCA_API_SECRET_KEY\u001b[39m\u001b[38;5;124m'\u001b[39m)\n\u001b[1;32m     88\u001b[0m \u001b[38;5;28;01mif\u001b[39;00m secret_key \u001b[38;5;129;01mis\u001b[39;00m \u001b[38;5;28;01mNone\u001b[39;00m \u001b[38;5;129;01mand\u001b[39;00m oauth \u001b[38;5;129;01mis\u001b[39;00m \u001b[38;5;28;01mNone\u001b[39;00m:\n",
      "\u001b[0;31mValueError\u001b[0m: ('Key ID must be given to access Alpaca trade API', ' (env: APCA_API_KEY_ID)')"
     ]
    }
   ],
   "source": [
    "# STEP 1\n",
    "# set API and create a Alpaca API opject \n",
    "alpaca_api_key = os.getenv(\"ALPACA_API_KEY\")\n",
    "alpaca_secret_key = os.getenv(\"ALPACA_SECRET_KEY\")\n",
    "\n",
    "alpaca = tradeapi.REST(alpaca_api_key, alpaca_secret_key, api_version = \"v2\")"
   ]
  },
  {
   "cell_type": "code",
   "execution_count": 4,
   "id": "708506ef",
   "metadata": {},
   "outputs": [],
   "source": [
    "# STEP 2\n",
    "# modify the time which customers provied in ISO format\n",
    "start_date = pd.Timestamp(customer_request_starting_date, tz = \"America/New_York\").isoformat()\n",
    "end_date = pd.Timestamp(customer_request_ending_date, tz = \"America/New_York\").isoformat()\n",
    "\n",
    "timeframe = \"1Day\""
   ]
  },
  {
   "cell_type": "code",
   "execution_count": 5,
   "id": "82be4603",
   "metadata": {},
   "outputs": [
    {
     "ename": "NameError",
     "evalue": "name 'alpaca' is not defined",
     "output_type": "error",
     "traceback": [
      "\u001b[0;31m---------------------------------------------------------------------------\u001b[0m",
      "\u001b[0;31mNameError\u001b[0m                                 Traceback (most recent call last)",
      "Input \u001b[0;32mIn [5]\u001b[0m, in \u001b[0;36m<cell line: 3>\u001b[0;34m()\u001b[0m\n\u001b[1;32m      1\u001b[0m \u001b[38;5;66;03m# STEP 3\u001b[39;00m\n\u001b[1;32m      2\u001b[0m \u001b[38;5;66;03m# get data from API and save it in a dataframe\u001b[39;00m\n\u001b[0;32m----> 3\u001b[0m df_portfolio \u001b[38;5;241m=\u001b[39m \u001b[43malpaca\u001b[49m\u001b[38;5;241m.\u001b[39mget_bars(tickers, timeframe, start \u001b[38;5;241m=\u001b[39m start_date, end \u001b[38;5;241m=\u001b[39m end_date)\u001b[38;5;241m.\u001b[39mdf\n",
      "\u001b[0;31mNameError\u001b[0m: name 'alpaca' is not defined"
     ]
    }
   ],
   "source": [
    "# STEP 3\n",
    "# get data from API and save it in a dataframe\n",
    "df_portfolio = alpaca.get_bars(tickers, timeframe, start = start_date, end = end_date).df"
   ]
  },
  {
   "cell_type": "code",
   "execution_count": 14,
   "id": "6ac77bfe",
   "metadata": {},
   "outputs": [
    {
     "data": {
      "text/html": [
       "<div>\n",
       "<style scoped>\n",
       "    .dataframe tbody tr th:only-of-type {\n",
       "        vertical-align: middle;\n",
       "    }\n",
       "\n",
       "    .dataframe tbody tr th {\n",
       "        vertical-align: top;\n",
       "    }\n",
       "\n",
       "    .dataframe thead th {\n",
       "        text-align: right;\n",
       "    }\n",
       "</style>\n",
       "<table border=\"1\" class=\"dataframe\">\n",
       "  <thead>\n",
       "    <tr style=\"text-align: right;\">\n",
       "      <th></th>\n",
       "      <th>open</th>\n",
       "      <th>high</th>\n",
       "      <th>low</th>\n",
       "      <th>close</th>\n",
       "      <th>volume</th>\n",
       "      <th>trade_count</th>\n",
       "      <th>vwap</th>\n",
       "      <th>symbol</th>\n",
       "    </tr>\n",
       "    <tr>\n",
       "      <th>timestamp</th>\n",
       "      <th></th>\n",
       "      <th></th>\n",
       "      <th></th>\n",
       "      <th></th>\n",
       "      <th></th>\n",
       "      <th></th>\n",
       "      <th></th>\n",
       "      <th></th>\n",
       "    </tr>\n",
       "  </thead>\n",
       "  <tbody>\n",
       "    <tr>\n",
       "      <th>2021-01-04 05:00:00+00:00</th>\n",
       "      <td>275.00</td>\n",
       "      <td>275.00</td>\n",
       "      <td>265.2000</td>\n",
       "      <td>268.94</td>\n",
       "      <td>15106165</td>\n",
       "      <td>201148</td>\n",
       "      <td>269.208613</td>\n",
       "      <td>FB</td>\n",
       "    </tr>\n",
       "    <tr>\n",
       "      <th>2021-01-05 05:00:00+00:00</th>\n",
       "      <td>268.29</td>\n",
       "      <td>272.40</td>\n",
       "      <td>268.2111</td>\n",
       "      <td>270.97</td>\n",
       "      <td>9871557</td>\n",
       "      <td>128145</td>\n",
       "      <td>270.988615</td>\n",
       "      <td>FB</td>\n",
       "    </tr>\n",
       "    <tr>\n",
       "      <th>2021-01-06 05:00:00+00:00</th>\n",
       "      <td>261.56</td>\n",
       "      <td>267.75</td>\n",
       "      <td>260.0100</td>\n",
       "      <td>263.31</td>\n",
       "      <td>24354621</td>\n",
       "      <td>303487</td>\n",
       "      <td>264.657687</td>\n",
       "      <td>FB</td>\n",
       "    </tr>\n",
       "    <tr>\n",
       "      <th>2021-01-07 05:00:00+00:00</th>\n",
       "      <td>265.90</td>\n",
       "      <td>271.61</td>\n",
       "      <td>264.7800</td>\n",
       "      <td>268.74</td>\n",
       "      <td>15789756</td>\n",
       "      <td>195125</td>\n",
       "      <td>268.977106</td>\n",
       "      <td>FB</td>\n",
       "    </tr>\n",
       "    <tr>\n",
       "      <th>2021-01-08 05:00:00+00:00</th>\n",
       "      <td>268.31</td>\n",
       "      <td>268.95</td>\n",
       "      <td>263.1800</td>\n",
       "      <td>267.57</td>\n",
       "      <td>18519252</td>\n",
       "      <td>248499</td>\n",
       "      <td>265.751606</td>\n",
       "      <td>FB</td>\n",
       "    </tr>\n",
       "    <tr>\n",
       "      <th>...</th>\n",
       "      <td>...</td>\n",
       "      <td>...</td>\n",
       "      <td>...</td>\n",
       "      <td>...</td>\n",
       "      <td>...</td>\n",
       "      <td>...</td>\n",
       "      <td>...</td>\n",
       "      <td>...</td>\n",
       "    </tr>\n",
       "    <tr>\n",
       "      <th>2021-12-27 05:00:00+00:00</th>\n",
       "      <td>44.21</td>\n",
       "      <td>44.92</td>\n",
       "      <td>44.1300</td>\n",
       "      <td>44.33</td>\n",
       "      <td>8594926</td>\n",
       "      <td>74327</td>\n",
       "      <td>44.469436</td>\n",
       "      <td>TWTR</td>\n",
       "    </tr>\n",
       "    <tr>\n",
       "      <th>2021-12-28 05:00:00+00:00</th>\n",
       "      <td>44.21</td>\n",
       "      <td>44.78</td>\n",
       "      <td>43.2300</td>\n",
       "      <td>43.43</td>\n",
       "      <td>8831036</td>\n",
       "      <td>76997</td>\n",
       "      <td>43.776774</td>\n",
       "      <td>TWTR</td>\n",
       "    </tr>\n",
       "    <tr>\n",
       "      <th>2021-12-29 05:00:00+00:00</th>\n",
       "      <td>43.17</td>\n",
       "      <td>43.55</td>\n",
       "      <td>42.5600</td>\n",
       "      <td>42.76</td>\n",
       "      <td>8719351</td>\n",
       "      <td>72680</td>\n",
       "      <td>42.824684</td>\n",
       "      <td>TWTR</td>\n",
       "    </tr>\n",
       "    <tr>\n",
       "      <th>2021-12-30 05:00:00+00:00</th>\n",
       "      <td>42.77</td>\n",
       "      <td>45.09</td>\n",
       "      <td>42.6300</td>\n",
       "      <td>44.46</td>\n",
       "      <td>14538382</td>\n",
       "      <td>110358</td>\n",
       "      <td>44.397860</td>\n",
       "      <td>TWTR</td>\n",
       "    </tr>\n",
       "    <tr>\n",
       "      <th>2021-12-31 05:00:00+00:00</th>\n",
       "      <td>44.22</td>\n",
       "      <td>44.76</td>\n",
       "      <td>43.1800</td>\n",
       "      <td>43.22</td>\n",
       "      <td>9828199</td>\n",
       "      <td>78082</td>\n",
       "      <td>43.682230</td>\n",
       "      <td>TWTR</td>\n",
       "    </tr>\n",
       "  </tbody>\n",
       "</table>\n",
       "<p>504 rows × 8 columns</p>\n",
       "</div>"
      ],
      "text/plain": [
       "                             open    high       low   close    volume  \\\n",
       "timestamp                                                               \n",
       "2021-01-04 05:00:00+00:00  275.00  275.00  265.2000  268.94  15106165   \n",
       "2021-01-05 05:00:00+00:00  268.29  272.40  268.2111  270.97   9871557   \n",
       "2021-01-06 05:00:00+00:00  261.56  267.75  260.0100  263.31  24354621   \n",
       "2021-01-07 05:00:00+00:00  265.90  271.61  264.7800  268.74  15789756   \n",
       "2021-01-08 05:00:00+00:00  268.31  268.95  263.1800  267.57  18519252   \n",
       "...                           ...     ...       ...     ...       ...   \n",
       "2021-12-27 05:00:00+00:00   44.21   44.92   44.1300   44.33   8594926   \n",
       "2021-12-28 05:00:00+00:00   44.21   44.78   43.2300   43.43   8831036   \n",
       "2021-12-29 05:00:00+00:00   43.17   43.55   42.5600   42.76   8719351   \n",
       "2021-12-30 05:00:00+00:00   42.77   45.09   42.6300   44.46  14538382   \n",
       "2021-12-31 05:00:00+00:00   44.22   44.76   43.1800   43.22   9828199   \n",
       "\n",
       "                           trade_count        vwap symbol  \n",
       "timestamp                                                  \n",
       "2021-01-04 05:00:00+00:00       201148  269.208613     FB  \n",
       "2021-01-05 05:00:00+00:00       128145  270.988615     FB  \n",
       "2021-01-06 05:00:00+00:00       303487  264.657687     FB  \n",
       "2021-01-07 05:00:00+00:00       195125  268.977106     FB  \n",
       "2021-01-08 05:00:00+00:00       248499  265.751606     FB  \n",
       "...                                ...         ...    ...  \n",
       "2021-12-27 05:00:00+00:00        74327   44.469436   TWTR  \n",
       "2021-12-28 05:00:00+00:00        76997   43.776774   TWTR  \n",
       "2021-12-29 05:00:00+00:00        72680   42.824684   TWTR  \n",
       "2021-12-30 05:00:00+00:00       110358   44.397860   TWTR  \n",
       "2021-12-31 05:00:00+00:00        78082   43.682230   TWTR  \n",
       "\n",
       "[504 rows x 8 columns]"
      ]
     },
     "execution_count": 14,
     "metadata": {},
     "output_type": "execute_result"
    }
   ],
   "source": [
    "# STEP 4 \n",
    "# review the dataframe\n",
    "df_portfolio"
   ]
  },
  {
   "cell_type": "code",
   "execution_count": null,
   "id": "362ec9fa",
   "metadata": {},
   "outputs": [],
   "source": []
  },
  {
   "cell_type": "code",
   "execution_count": null,
   "id": "8ed5037c",
   "metadata": {},
   "outputs": [],
   "source": []
  },
  {
   "cell_type": "code",
   "execution_count": null,
   "id": "145cfe93",
   "metadata": {},
   "outputs": [],
   "source": []
  },
  {
   "cell_type": "code",
   "execution_count": null,
   "id": "f6c79012",
   "metadata": {},
   "outputs": [],
   "source": []
  },
  {
   "cell_type": "code",
   "execution_count": null,
   "id": "8fd02393",
   "metadata": {},
   "outputs": [],
   "source": []
  },
  {
   "cell_type": "code",
   "execution_count": null,
   "id": "a525ee8e",
   "metadata": {},
   "outputs": [],
   "source": []
  }
 ],
 "metadata": {
  "kernelspec": {
   "display_name": "Python 3 (ipykernel)",
   "language": "python",
   "name": "python3"
  },
  "language_info": {
   "codemirror_mode": {
    "name": "ipython",
    "version": 3
   },
   "file_extension": ".py",
   "mimetype": "text/x-python",
   "name": "python",
   "nbconvert_exporter": "python",
   "pygments_lexer": "ipython3",
   "version": "3.9.12"
  }
 },
 "nbformat": 4,
 "nbformat_minor": 5
}
